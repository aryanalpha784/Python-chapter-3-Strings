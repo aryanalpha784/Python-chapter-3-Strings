{
 "cells": [
  {
   "cell_type": "markdown",
   "id": "8f36ee10-f172-49e3-8f11-b25a2b5eda1a",
   "metadata": {},
   "source": [
    "# 1. Write a Python program to display a user entered name followed by Good Afternoon using input() function."
   ]
  },
  {
   "cell_type": "code",
   "execution_count": 4,
   "id": "6f5e129e-3d21-4741-a87f-d60b1b8d1b2a",
   "metadata": {},
   "outputs": [
    {
     "name": "stdin",
     "output_type": "stream",
     "text": [
      "Enter the name:  XYZ\n"
     ]
    },
    {
     "name": "stdout",
     "output_type": "stream",
     "text": [
      "Good Afternoon XYZ\n"
     ]
    }
   ],
   "source": [
    "name = input(\"Enter the name: \")\n",
    "print(\"Good Afternoon \" + name)"
   ]
  },
  {
   "cell_type": "markdown",
   "id": "11b2ccdd-652a-4b08-a3e9-02f6989f2c8c",
   "metadata": {},
   "source": [
    "# 2. Write a program to fill in a letter template given below with name and date.\n",
    "\n",
    "                    letter = '''Dear <|NAME|>\n",
    "                                     You are Selected !\n",
    "                                     <|DATE|>'''"
   ]
  },
  {
   "cell_type": "code",
   "execution_count": 24,
   "id": "0abdf8b1-9c8c-474e-8585-80e2a4060efa",
   "metadata": {},
   "outputs": [
    {
     "name": "stdin",
     "output_type": "stream",
     "text": [
      "Enter the name:  XYZ\n",
      "Enter the date:  2024-07-20\n"
     ]
    },
    {
     "name": "stdout",
     "output_type": "stream",
     "text": [
      "Dear XYZ,\n",
      "                                    \n",
      "You are Selected !\n",
      "                \n",
      "2024-07-20\n"
     ]
    }
   ],
   "source": [
    "letter = '''Dear <|NAME|>,\n",
    "                                    \n",
    "You are Selected !\n",
    "                \n",
    "<|DATE|>'''\n",
    "\n",
    "\n",
    "Name = input(\"Enter the name: \")\n",
    "Date = input(\"Enter the date: \")\n",
    "\n",
    "filled_letter = letter.replace(\"<|NAME|>\", Name)\n",
    "filled_letter = filled_letter.replace(\"<|DATE|>\", Date)\n",
    "\n",
    "print(filled_letter)"
   ]
  },
  {
   "cell_type": "markdown",
   "id": "358bedea-5ada-48e0-93f1-0fc10bfa9c1c",
   "metadata": {},
   "source": [
    "# 3. Write a program to detect double spaces in a string."
   ]
  },
  {
   "cell_type": "code",
   "execution_count": 28,
   "id": "ea44a597-b42f-467a-8da2-67c79a2583f5",
   "metadata": {},
   "outputs": [
    {
     "name": "stdout",
     "output_type": "stream",
     "text": [
      "20\n"
     ]
    }
   ],
   "source": [
    "st = \"this is double space  string\"\n",
    "\n",
    "print(st.find(\"  \"))  "
   ]
  },
  {
   "cell_type": "markdown",
   "id": "e1f28b17-4af2-4b55-8be8-b156f8956ac8",
   "metadata": {},
   "source": [
    "# 4. Replace the double spaces from problem 3 with a single space."
   ]
  },
  {
   "cell_type": "code",
   "execution_count": 31,
   "id": "80174ad9-54fd-4815-88b5-39e35b775b53",
   "metadata": {},
   "outputs": [
    {
     "name": "stdout",
     "output_type": "stream",
     "text": [
      "this is double space string\n"
     ]
    }
   ],
   "source": [
    "st = \"this is double space  string\"\n",
    "\n",
    "replace_double_space = st.replace(\"  \", \" \")\n",
    "\n",
    "print(replace_double_space)"
   ]
  },
  {
   "cell_type": "markdown",
   "id": "136da4c4-287d-4722-b646-2e50365c672d",
   "metadata": {},
   "source": [
    "# 5. Write a program to format the following letter using escape sequence characters.\n",
    "\n",
    "letter = \"Dear XYZ,This is the best cricket ground.Thanks!\""
   ]
  },
  {
   "cell_type": "code",
   "execution_count": 37,
   "id": "f7e000d2-0fc9-4e2d-9809-5d23291d9cca",
   "metadata": {},
   "outputs": [
    {
     "name": "stdout",
     "output_type": "stream",
     "text": [
      "Dear XYZ,\n",
      "\n",
      "This is the best cricket ground.\n",
      "\n",
      "Thanks!\n"
     ]
    }
   ],
   "source": [
    "letter = \"Dear XYZ,\\n\\nThis is the best cricket ground.\\n\\nThanks!\"\n",
    "\n",
    "print(letter)"
   ]
  },
  {
   "cell_type": "code",
   "execution_count": null,
   "id": "8f7d4e50-21b4-47fa-a695-048e7b6c1d77",
   "metadata": {},
   "outputs": [],
   "source": []
  }
 ],
 "metadata": {
  "kernelspec": {
   "display_name": "Python 3 (ipykernel)",
   "language": "python",
   "name": "python3"
  },
  "language_info": {
   "codemirror_mode": {
    "name": "ipython",
    "version": 3
   },
   "file_extension": ".py",
   "mimetype": "text/x-python",
   "name": "python",
   "nbconvert_exporter": "python",
   "pygments_lexer": "ipython3",
   "version": "3.11.7"
  }
 },
 "nbformat": 4,
 "nbformat_minor": 5
}
